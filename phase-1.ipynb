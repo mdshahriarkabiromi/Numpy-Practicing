{
 "cells": [
  {
   "cell_type": "markdown",
   "metadata": {},
   "source": [
    "## Learning numpy from the scratch"
   ]
  },
  {
   "cell_type": "code",
   "execution_count": 1,
   "metadata": {},
   "outputs": [],
   "source": [
    "import numpy as np"
   ]
  },
  {
   "cell_type": "markdown",
   "metadata": {},
   "source": [
    "### Creating array from list"
   ]
  },
  {
   "cell_type": "code",
   "execution_count": 4,
   "metadata": {},
   "outputs": [
    {
     "name": "stdout",
     "output_type": "stream",
     "text": [
      "[1 2 3 4 5]\n",
      "[[1 2 3]\n",
      " [4 5 6]\n",
      " [7 8 9]]\n"
     ]
    }
   ],
   "source": [
    "arr_1d=np.array([1,2,3,4,5])\n",
    "print(arr_1d)\n",
    "arr_2d=np.array([[1,2,3],[4,5,6],[7,8,9]])\n",
    "print(arr_2d)"
   ]
  },
  {
   "cell_type": "markdown",
   "metadata": {},
   "source": [
    "## List vs numpy"
   ]
  },
  {
   "cell_type": "code",
   "execution_count": 5,
   "metadata": {},
   "outputs": [
    {
     "name": "stdout",
     "output_type": "stream",
     "text": [
      "[1, 2, 3]\n",
      "[1 2 3]\n",
      "Time taken for list operation = 0.06601095199584961\n",
      "Time taken for array operation = 0.006922245025634766\n"
     ]
    }
   ],
   "source": [
    "py_list=[1,2,3]\n",
    "print(py_list)\n",
    "\n",
    "numpy_arr=np.array([1,2,3])\n",
    "print(numpy_arr)\n",
    "\n",
    "import time\n",
    "start=time.time()\n",
    "py_list=[i*2 for i in range(1000000)]\n",
    "print(f\"Time taken for list operation = {time.time()-start}\")\n",
    "\n",
    "start=time.time()\n",
    "numpy_arr=np.arange(1000000)*2\n",
    "print(f\"Time taken for array operation = {time.time()-start}\")"
   ]
  },
  {
   "cell_type": "markdown",
   "metadata": {},
   "source": [
    "### Creating Array from scratch"
   ]
  },
  {
   "cell_type": "code",
   "execution_count": 6,
   "metadata": {},
   "outputs": [
    {
     "name": "stdout",
     "output_type": "stream",
     "text": [
      "[[0. 0. 0.]\n",
      " [0. 0. 0.]\n",
      " [0. 0. 0.]]\n",
      "[[1. 1. 1. 1.]\n",
      " [1. 1. 1. 1.]\n",
      " [1. 1. 1. 1.]\n",
      " [1. 1. 1. 1.]]\n",
      "[[9 9 9]\n",
      " [9 9 9]\n",
      " [9 9 9]]\n",
      "[[0.19431284 0.2973127  0.28274382]\n",
      " [0.38687384 0.40489649 0.2319223 ]\n",
      " [0.49797234 0.42145569 0.28918238]]\n",
      "[ 1  3  5  7  9 11]\n"
     ]
    }
   ],
   "source": [
    "zeros=np.zeros((3,3))\n",
    "print(zeros)\n",
    "\n",
    "ones=np.ones((4,4))\n",
    "print(ones)\n",
    "\n",
    "full=np.full((3,3),9)\n",
    "print(full)\n",
    "\n",
    "random=np.random.random((3,3))\n",
    "print(random)\n",
    "\n",
    "sequence=np.arange(1,12,2)#stop value exclusive\n",
    "print(sequence)"
   ]
  },
  {
   "cell_type": "markdown",
   "metadata": {},
   "source": [
    "## Vector Matrix & Tensor"
   ]
  },
  {
   "cell_type": "code",
   "execution_count": 7,
   "metadata": {},
   "outputs": [
    {
     "name": "stdout",
     "output_type": "stream",
     "text": [
      "Vector: [1 2 3 4 5]\n",
      "Matrix: [[1 2 3]\n",
      " [4 5 6]]\n",
      "Tensor: [[[ 1  2]\n",
      "  [ 3  4]\n",
      "  [ 5  6]]\n",
      "\n",
      " [[ 7  8]\n",
      "  [ 9 10]\n",
      "  [11 12]]]\n"
     ]
    }
   ],
   "source": [
    "vector=np.array([1,2,3,4,5])\n",
    "print(f\"Vector: {vector}\")\n",
    "\n",
    "matrix=np.array([[1,2,3],[4,5,6]])\n",
    "print(f\"Matrix: {matrix}\")\n",
    "\n",
    "tensor=np.array([[[1,2],[3,4],[5,6]],[[7,8],[9,10],[11,12]]])\n",
    "print(f\"Tensor: {tensor}\")"
   ]
  },
  {
   "cell_type": "markdown",
   "metadata": {},
   "source": [
    "## Array Property"
   ]
  },
  {
   "cell_type": "code",
   "execution_count": 9,
   "metadata": {},
   "outputs": [
    {
     "name": "stdout",
     "output_type": "stream",
     "text": [
      "Size= 9\n",
      "Shape= (3, 3)\n",
      "Dimension= 2\n",
      "Data Type= int64\n"
     ]
    }
   ],
   "source": [
    "pro_arr=np.array([[1,2,3],[4,5,6],[7,8,9]])\n",
    "print(f\"Size= {pro_arr.size}\")\n",
    "print(f\"Shape= {pro_arr.shape}\")\n",
    "print(f\"Dimension= {pro_arr.ndim}\")\n",
    "print(f\"Data Type= {pro_arr.dtype}\")"
   ]
  },
  {
   "cell_type": "markdown",
   "metadata": {},
   "source": [
    "## Array Reshaping"
   ]
  },
  {
   "cell_type": "code",
   "execution_count": null,
   "metadata": {},
   "outputs": [
    {
     "name": "stdout",
     "output_type": "stream",
     "text": [
      "Reshapped Array\n",
      "\n",
      "[[ 0  1  2  3]\n",
      " [ 4  5  6  7]\n",
      " [ 8  9 10 11]]\n",
      "\n",
      "\n",
      "Flatten Array\n",
      "\n",
      "[ 0  1  2  3  4  5  6  7  8  9 10 11]\n",
      "\n",
      "\n",
      "Ravelled Array\n",
      "\n",
      "[ 0  1  2  3  4  5  6  7  8  9 10 11]\n",
      "\n",
      "\n",
      "Transpose Array\n",
      "\n",
      "[[ 0  4  8]\n",
      " [ 1  5  9]\n",
      " [ 2  6 10]\n",
      " [ 3  7 11]]\n",
      "\n",
      "\n"
     ]
    }
   ],
   "source": [
    "arr=np.arange(12)\n",
    "reshape=arr.reshape(3,4)\n",
    "print(\"Reshapped Array\\n\")\n",
    "print(reshape)\n",
    "print(\"\\n\")\n",
    "flatten=reshape.flatten() #change the original\n",
    "print(\"Flatten Array\\n\")\n",
    "print(flatten)\n",
    "print(\"\\n\")\n",
    "ravel=reshape.ravel() # change the view of the origian\n",
    "print(\"Ravelled Array\\n\")\n",
    "print(ravel)\n",
    "print(\"\\n\")\n",
    "transpose=reshape.T\n",
    "print(\"Transpose Array\\n\")\n",
    "print(transpose)\n",
    "print(\"\\n\")"
   ]
  }
 ],
 "metadata": {
  "kernelspec": {
   "display_name": "myenv (3.13.1)",
   "language": "python",
   "name": "python3"
  },
  "language_info": {
   "codemirror_mode": {
    "name": "ipython",
    "version": 3
   },
   "file_extension": ".py",
   "mimetype": "text/x-python",
   "name": "python",
   "nbconvert_exporter": "python",
   "pygments_lexer": "ipython3",
   "version": "3.13.1"
  }
 },
 "nbformat": 4,
 "nbformat_minor": 2
}
